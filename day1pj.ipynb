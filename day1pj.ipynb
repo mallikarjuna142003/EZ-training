{
 "cells": [
  {
   "cell_type": "code",
   "execution_count": 1,
   "id": "b179e0c3",
   "metadata": {},
   "outputs": [
    {
     "name": "stdout",
     "output_type": "stream",
     "text": [
      "1,bat,good\n",
      "3,bat,better\n",
      "\n",
      "None\n",
      "\n",
      "None\n",
      "\n",
      "None\n",
      "1,volleyball,good\n",
      "\n",
      "2,basketball,good\n",
      "\n",
      "3,football,better\n",
      "\n",
      "1,bat,good\n",
      "3,bat,better\n",
      "\n",
      "None\n",
      "3,football,better\n",
      "\n"
     ]
    }
   ],
   "source": [
    "import os\n",
    "with open(\"file.txt\",\"wb\") as file:\n",
    "    eid=1\n",
    "    name=\"bat\"\n",
    "    condition=\"good\"\n",
    "    s=f\"{eid},{name},{condition}\\n\"\n",
    "    file.write(s.encode())\n",
    "    \n",
    "    eid=3\n",
    "    name=\"bat\"\n",
    "    condition=\"better\"\n",
    "    s=f\"{eid},{name},{condition}\\n\"\n",
    "    file.write(s.encode())\n",
    "    file.close()\n",
    "with open(\"file.txt\",\"r\") as file:\n",
    "    eid=1\n",
    "    name=\"bat\"\n",
    "    condition=\"good\"\n",
    "    s=f\"{eid},{name},{condition}\\n\"\n",
    "    s=print(file.read())\n",
    "    print(s)\n",
    "    eid=2\n",
    "    name=\"bat\"\n",
    "    condition=\"good\"\n",
    "    s=f\"{eid},{name},{condition}\\n\"\n",
    "    s=print(file.read())\n",
    "    print(s)\n",
    "    eid=3\n",
    "    name=\"bat\"\n",
    "    condition=\"better\"\n",
    "    s=f\"{eid},{name},{condition}\\n\"\n",
    "    s=print(file.read())\n",
    "    print(s)\n",
    "    file.close()\n",
    "with open(\"file.txt\",\"a\") as file:\n",
    "    eid=1\n",
    "    name=\"bat\"\n",
    "    condition=\"good\"\n",
    "    s=f\"{eid},{name},{condition}\\n\"\n",
    "    s=s.replace(\"bat\",\"volleyball\")\n",
    "    print(s)\n",
    "    \n",
    "    eid=2\n",
    "    name=\"bat\"\n",
    "    condition=\"good\"\n",
    "    s=f\"{eid},{name},{condition}\\n\"\n",
    "    s=s.replace(\"bat\",\"basketball\")\n",
    "    print(s)\n",
    "    \n",
    "    eid=3\n",
    "    name=\"bat\"\n",
    "    condition=\"better\"\n",
    "    s=f\"{eid},{name},{condition}\\n\"\n",
    "    s=s.replace(\"bat\",\"football\")\n",
    "    print(s)\n",
    "    file.close()\n",
    "with open(\"file.txt\",\"r\") as file:\n",
    "    eid=1\n",
    "    name=\"bat\"\n",
    "    condition=\"good\"\n",
    "    s=f\"{eid},{name},{condition}\\n\"\n",
    "    s=print(file.read())\n",
    "    print(s)\n",
    "    \n",
    "    eid=3\n",
    "    name=\"bat\"\n",
    "    condition=\"better\"\n",
    "    s=f\"{eid},{name},{condition}\\n\"\n",
    "    s=s.replace(\"bat\",\"football\")\n",
    "    print(s)\n",
    "    file.close()"
   ]
  },
  {
   "cell_type": "code",
   "execution_count": 2,
   "id": "e5c96e75",
   "metadata": {},
   "outputs": [
    {
     "name": "stdout",
     "output_type": "stream",
     "text": [
      "17 4 6 7\n"
     ]
    }
   ],
   "source": [
    "l=[2,4,3,5,6,3,4,6,7,1,2,5]\n",
    "sum = max = 0\n",
    "for i in range(0,len(l)-2):\n",
    "    sum=l[i]+l[i+1]+l[i+2]\n",
    "    if max<sum:\n",
    "        max = sum\n",
    "        pos=i\n",
    "print(max,l[pos],l[pos+1],l[pos+2])"
   ]
  },
  {
   "cell_type": "code",
   "execution_count": 3,
   "id": "b4e92e0d",
   "metadata": {},
   "outputs": [
    {
     "name": "stdout",
     "output_type": "stream",
     "text": [
      "Enter k: 2\n",
      "Elements: [2, 3]\n"
     ]
    }
   ],
   "source": [
    "l = [2, 3, 4, 5, 2, 4, 5, 3, 2, 3, 4]\n",
    "k = int(input(\"Enter k: \"))\n",
    "if k <= 0 or k > len(l):\n",
    "    print(\"Invalid k\")\n",
    "else:\n",
    "    pos = 0\n",
    "\n",
    "    for i in range(0, len(l) - k + 1):\n",
    "        if current_sum > max_sum:\n",
    "            max_sum = current_sum\n",
    "            pos = i\n",
    "    print(f\"Elements: {l[pos:pos+k]}\")\n"
   ]
  },
  {
   "cell_type": "code",
   "execution_count": null,
   "id": "2c6b2c76",
   "metadata": {},
   "outputs": [],
   "source": []
  }
 ],
 "metadata": {
  "kernelspec": {
   "display_name": "Python 3 (ipykernel)",
   "language": "python",
   "name": "python3"
  },
  "language_info": {
   "codemirror_mode": {
    "name": "ipython",
    "version": 3
   },
   "file_extension": ".py",
   "mimetype": "text/x-python",
   "name": "python",
   "nbconvert_exporter": "python",
   "pygments_lexer": "ipython3",
   "version": "3.9.12"
  }
 },
 "nbformat": 4,
 "nbformat_minor": 5
}
