{
 "cells": [
  {
   "cell_type": "code",
   "execution_count": 4,
   "id": "b41bfba5",
   "metadata": {},
   "outputs": [
    {
     "name": "stdout",
     "output_type": "stream",
     "text": [
      "Enter the timing when Max start: 7\n",
      "12\n"
     ]
    }
   ],
   "source": [
    "n=int(input(\"Enter the timing when Max start: \"))\n",
    "flag=0\n",
    "r=5\n",
    "if n<8:\n",
    "    time=8-n\n",
    "    time_sec=time*60\n",
    "    while time_sec>0:\n",
    "        time_sec=time_sec-r\n",
    "        r+5\n",
    "        flag+=1\n",
    "    print(flag)\n",
    "else:\n",
    "    pass\n",
    "    "
   ]
  },
  {
   "cell_type": "code",
   "execution_count": 8,
   "id": "48285b20",
   "metadata": {},
   "outputs": [
    {
     "name": "stdout",
     "output_type": "stream",
     "text": [
      "Enter the no.: 2\n",
      "9\n",
      "4\n",
      "5\n"
     ]
    }
   ],
   "source": [
    "l=[2,3,4,5]\n",
    "sum = max = 0\n",
    "k=int(input(\"Enter the no.: \"))\n",
    "for i in range(0,len(l)-k+1):\n",
    "    sum=0\n",
    "    for j in range(0,k):\n",
    "        sum+=l[i+j]\n",
    "    if max<sum:\n",
    "        max = sum\n",
    "        pos=i\n",
    "print(max)\n",
    "for j in range (0,k):\n",
    "    print(l[pos+j])"
   ]
  },
  {
   "cell_type": "code",
   "execution_count": 4,
   "id": "ed8cd239",
   "metadata": {},
   "outputs": [
    {
     "name": "stdout",
     "output_type": "stream",
     "text": [
      "Enter k value:3\n",
      "Maximum sum: 17\n",
      "Elements: [4, 6, 7]\n"
     ]
    }
   ],
   "source": [
    "l = [2, 4, 3, 5, 6, 3, 4, 6, 7, 1, 2, 5]\n",
    "k=int(input(\"Enter k value:\"))\n",
    "\n",
    "if k <= 0 or k > len(l):\n",
    "    print(\"Invalid value of k. Please provide a valid number.\")\n",
    "else:\n",
    "    window = sum(l[0:k])\n",
    "    max_sum = window\n",
    "    pos = 0\n",
    "\n",
    "    for i in range(len(l) - k):\n",
    "        window = window - l[i] + l[i + k]\n",
    "        if window > max_sum:\n",
    "            max_sum = window\n",
    "            pos = i + 1\n",
    "\n",
    "    print(f\"Maximum sum: {max_sum}\")\n",
    "    print(f\"Elements: {l[pos:pos + k]}\")"
   ]
  },
  {
   "cell_type": "code",
   "execution_count": 2,
   "id": "df270d1c",
   "metadata": {},
   "outputs": [
    {
     "name": "stdout",
     "output_type": "stream",
     "text": [
      "Enter: 5\n",
      "enter: 180\n",
      "11\n"
     ]
    }
   ],
   "source": [
    "N=int(input(\"Enter: \"))\n",
    "P=int(input(\"enter: \"))\n",
    "time=4*60-P\n",
    "count=0\n",
    "isc=5\n",
    "while time>isc:\n",
    "    time\n",
    "    count+=1\n",
    "    isc+=5\n",
    "    \n",
    "print(count)"
   ]
  },
  {
   "cell_type": "code",
   "execution_count": null,
   "id": "0c55f956",
   "metadata": {},
   "outputs": [],
   "source": []
  }
 ],
 "metadata": {
  "kernelspec": {
   "display_name": "Python 3 (ipykernel)",
   "language": "python",
   "name": "python3"
  },
  "language_info": {
   "codemirror_mode": {
    "name": "ipython",
    "version": 3
   },
   "file_extension": ".py",
   "mimetype": "text/x-python",
   "name": "python",
   "nbconvert_exporter": "python",
   "pygments_lexer": "ipython3",
   "version": "3.9.12"
  }
 },
 "nbformat": 4,
 "nbformat_minor": 5
}
