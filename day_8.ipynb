{
 "cells": [
  {
   "cell_type": "code",
   "execution_count": 1,
   "id": "c7624600",
   "metadata": {},
   "outputs": [
    {
     "name": "stdout",
     "output_type": "stream",
     "text": [
      "5 31 2 5 3 1 88 99\n",
      "[1, 2, 3, 5, 5, 31, 88, 99]\n"
     ]
    }
   ],
   "source": [
    "#Bubble Sort\n",
    "\n",
    "L=list(map(int,input().split()))\n",
    "n=len(L)\n",
    "for j in range(0,n):\n",
    "    for i in range(0,n-1-j):\n",
    "        if L[i]>L[i+1]:\n",
    "            L[i],L[i+1]=L[i+1],L[i]\n",
    "\n",
    "print(L)"
   ]
  },
  {
   "cell_type": "code",
   "execution_count": 6,
   "id": "4abde37a",
   "metadata": {},
   "outputs": [
    {
     "name": "stdout",
     "output_type": "stream",
     "text": [
      "8\n",
      "13\n"
     ]
    }
   ],
   "source": [
    "#recursion  FAB Series\n",
    "\n",
    "def fib(n):\n",
    "    if n == 1:\n",
    "        return 0\n",
    "    if n == 2:\n",
    "        return 1\n",
    "    return fib(n-1)+fib(n-2)\n",
    "\n",
    "if __name__ == \"__main__\":\n",
    "    n= int(input())\n",
    "    print(fib(n))"
   ]
  },
  {
   "cell_type": "code",
   "execution_count": 7,
   "id": "b2b2e162",
   "metadata": {},
   "outputs": [
    {
     "name": "stdout",
     "output_type": "stream",
     "text": [
      "4 7 8 3 2 9 1 5\n",
      "Sorted Array =  [1, 2, 3, 4, 5, 7, 8, 9]\n"
     ]
    }
   ],
   "source": [
    "#Quick Sort\n",
    "\n",
    "\n",
    "def divide(L,Low,High):\n",
    "    P=L[High]\n",
    "    Pi=High\n",
    "    j=Low-1\n",
    "    for i in range (Low,High):\n",
    "        if L[i]<=P:\n",
    "            j+=1\n",
    "            L[i],L[j]=L[j],L[i]\n",
    "    j+=1\n",
    "    L[j],L[Pi]=L[Pi],L[j]\n",
    "    Pi=j\n",
    "    return Pi\n",
    "\n",
    "def Quick_Sort(L,Low,High):\n",
    "    if Low<High:\n",
    "        pi=divide(L,Low,High)\n",
    "        Quick_Sort(L,Low,pi-1)\n",
    "        Quick_Sort(L,pi+1,High)\n",
    "    return    \n",
    "\n",
    "\n",
    "if __name__==\"__main__\":\n",
    "    L=list(map(int,input().split())) \n",
    "    low=0\n",
    "    high= len(L)-1\n",
    "    Quick_Sort(L,low,high)\n",
    "\n",
    "    print(\"Sorted Array = \",L)"
   ]
  },
  {
   "cell_type": "code",
   "execution_count": 8,
   "id": "2a9bb242",
   "metadata": {},
   "outputs": [
    {
     "name": "stdout",
     "output_type": "stream",
     "text": [
      " 4 7 8 3 2 9 1 5\n",
      "Sorted Array =  [1, 2, 3, 4, 5, 7, 8, 9]\n"
     ]
    }
   ],
   "source": [
    "#merge Sort\n",
    "\n",
    "\n",
    "def merge(left,right):\n",
    "    i=j=0\n",
    "    temp=[]\n",
    "\n",
    "    while i<len(left) and j<len(right):\n",
    "        if left[i]<right[j]:\n",
    "            temp.append(left[i])\n",
    "            i+=1\n",
    "        else:\n",
    "            temp.append(right[j])\n",
    "            j+=1\n",
    "            \n",
    "    while i<len(left):\n",
    "        temp.append(left[i])\n",
    "        i+=1\n",
    "        \n",
    "    while j<len(right):\n",
    "        temp.append(right[j])\n",
    "        j+=1\n",
    "\n",
    "    return temp\n",
    "\n",
    "def mergesort(L):\n",
    "    if len(L) <= 1:\n",
    "        return L\n",
    "        \n",
    "    mid = len(L)//2\n",
    "    left=L[:mid] \n",
    "    right=L[mid:]\n",
    "    \n",
    "    left_sorted = mergesort(left)\n",
    "    right_sorted = mergesort(right)\n",
    "    \n",
    "    return merge(left_sorted,right_sorted)\n",
    "\n",
    "\n",
    "if __name__==\"__main__\":\n",
    "    L=list(map(int,input().split())) \n",
    "    sorted=mergesort(L)\n",
    "\n",
    "    print(\"Sorted Array = \",sorted)"
   ]
  },
  {
   "cell_type": "code",
   "execution_count": 9,
   "id": "ccd3b682",
   "metadata": {},
   "outputs": [
    {
     "name": "stdout",
     "output_type": "stream",
     "text": [
      "Sorted array: [11, 12, 22, 25, 64]\n"
     ]
    }
   ],
   "source": [
    "def selection_sort(arr):\n",
    "    for i in range(len(arr)):\n",
    "        min_index = i\n",
    "        for j in range(i + 1, len(arr)):\n",
    "            if arr[j] < arr[min_index]:\n",
    "                min_index = j\n",
    "        \n",
    "        arr[i], arr[min_index] = arr[min_index], arr[i]\n",
    "\n",
    "    return arr\n",
    "\n",
    "arr = [64, 25, 12, 22, 11]\n",
    "sorted_arr = selection_sort(arr)\n",
    "print(\"Sorted array:\", sorted_arr)\n"
   ]
  },
  {
   "cell_type": "code",
   "execution_count": 10,
   "id": "4e5eb9ca",
   "metadata": {},
   "outputs": [
    {
     "name": "stdout",
     "output_type": "stream",
     "text": [
      "Sorted array: [5, 6, 11, 12, 13]\n"
     ]
    }
   ],
   "source": [
    "def insertion_sort(arr):\n",
    "    for i in range(1, len(arr)):\n",
    "        key = arr[i]\n",
    "        j = i - 1\n",
    "        while j >= 0 and key < arr[j]:\n",
    "            arr[j + 1] = arr[j]\n",
    "            j -= 1\n",
    "        arr[j + 1] = key\n",
    "\n",
    "    return arr\n",
    "\n",
    "arr = [12, 11, 13, 5, 6]\n",
    "sorted_arr = insertion_sort(arr)\n",
    "print(\"Sorted array:\", sorted_arr)\n"
   ]
  },
  {
   "cell_type": "code",
   "execution_count": null,
   "id": "37a1c6ec",
   "metadata": {},
   "outputs": [],
   "source": []
  }
 ],
 "metadata": {
  "kernelspec": {
   "display_name": "Python 3 (ipykernel)",
   "language": "python",
   "name": "python3"
  },
  "language_info": {
   "codemirror_mode": {
    "name": "ipython",
    "version": 3
   },
   "file_extension": ".py",
   "mimetype": "text/x-python",
   "name": "python",
   "nbconvert_exporter": "python",
   "pygments_lexer": "ipython3",
   "version": "3.9.12"
  }
 },
 "nbformat": 4,
 "nbformat_minor": 5
}
